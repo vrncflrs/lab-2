{
 "cells": [
  {
   "cell_type": "markdown",
   "metadata": {},
   "source": [
    "**182016**\n",
    "<br>\n",
    "Flores\n",
    "<br>\n",
    "3 BS ITE"
   ]
  },
  {
   "cell_type": "markdown",
   "metadata": {},
   "source": [
    "## Problem 1\n",
    "Write a function that takes the circumference of a circle as a parameter and returns the area of that circle."
   ]
  },
  {
   "cell_type": "code",
   "execution_count": 12,
   "metadata": {},
   "outputs": [
    {
     "name": "stdout",
     "output_type": "stream",
     "text": [
      "circle circumference: 100\n"
     ]
    },
    {
     "data": {
      "text/plain": [
       "795.7728545963839"
      ]
     },
     "execution_count": 12,
     "metadata": {},
     "output_type": "execute_result"
    }
   ],
   "source": [
    "def circarea(circumference):\n",
    "    pi_val = 3.1416\n",
    "    c_radius = circumference/(2*pi_val)\n",
    "    c_area = pi_val*(c_radius)\n",
    "    return c_area\n",
    "\n",
    "x = int(input(\"circle circumference: \"))\n",
    "circarea(x)"
   ]
  },
  {
   "cell_type": "markdown",
   "metadata": {},
   "source": [
    "## Problem 2\n",
    "Write a function that takes a 5-character string as a parameter and returns the string in reverse order."
   ]
  },
  {
   "cell_type": "code",
   "execution_count": 20,
   "metadata": {},
   "outputs": [
    {
     "name": "stdout",
     "output_type": "stream",
     "text": [
      "reverse a word: water\n"
     ]
    },
    {
     "data": {
      "text/plain": [
       "'retaw'"
      ]
     },
     "execution_count": 20,
     "metadata": {},
     "output_type": "execute_result"
    }
   ],
   "source": [
    "def reverser(word):\n",
    "    if len(word) == 5:\n",
    "        reversedword = word[::-1]\n",
    "        return reversedword\n",
    "    else:\n",
    "        return 'input only 5 characters ! thank you c:'\n",
    "\n",
    "x = input(\"reverse a word: \")\n",
    "\n",
    "reverser(x)"
   ]
  },
  {
   "cell_type": "markdown",
   "metadata": {},
   "source": [
    "## Problem 3\n",
    "Write a function that takes a positive integer as input and returns the sum of all positive integers smaller than and including the number itself."
   ]
  },
  {
   "cell_type": "code",
   "execution_count": 36,
   "metadata": {},
   "outputs": [
    {
     "name": "stdout",
     "output_type": "stream",
     "text": [
      "enter an integer: 1000\n"
     ]
    },
    {
     "data": {
      "text/plain": [
       "500500"
      ]
     },
     "execution_count": 36,
     "metadata": {},
     "output_type": "execute_result"
    }
   ],
   "source": [
    "def sumfunc(number):\n",
    "    if number > 0:\n",
    "        i = number\n",
    "        total = 0\n",
    "        while(i > 0):\n",
    "            total += i\n",
    "            i -= 1\n",
    "        return total\n",
    "    else:\n",
    "        return 'only postive vibes and integers'\n",
    "    \n",
    "x = int(input('enter an integer: '))\n",
    "sumfunc(x)"
   ]
  },
  {
   "cell_type": "markdown",
   "metadata": {},
   "source": [
    "## Problem 4\n",
    "Find the difference between the sum of the squares of the first one hundred natural numbers and the square of the sum."
   ]
  },
  {
   "cell_type": "code",
   "execution_count": 36,
   "metadata": {},
   "outputs": [
    {
     "name": "stdout",
     "output_type": "stream",
     "text": [
      "first how many natural numbers? 100\n",
      "sum of the squares of the first  100 numbers:  338350\n",
      "square of the sum of the first  100 numbers:  25502500\n",
      "difference:  25164150\n"
     ]
    }
   ],
   "source": [
    "## no function\n",
    "amount = int(input('first how many natural numbers? '))\n",
    "\n",
    "i = amount\n",
    "total1 = 0\n",
    "while(i>0):\n",
    "    total1 += i**2\n",
    "    i -= 1\n",
    "print('sum of the squares of the first ',amount,'numbers: ',total1)\n",
    "\n",
    "j = amount\n",
    "total2 = 0\n",
    "while(j > 0):\n",
    "    total2 += j\n",
    "    j -= 1\n",
    "sq_total = total2**2\n",
    "print('square of the sum of the first ',amount,'numbers: ',sq_total)\n",
    "\n",
    "print('difference: ',sq_total-total1)"
   ]
  },
  {
   "cell_type": "code",
   "execution_count": 35,
   "metadata": {},
   "outputs": [
    {
     "name": "stdout",
     "output_type": "stream",
     "text": [
      "first how many natural numbers? 100\n",
      "answer:  25164150\n"
     ]
    }
   ],
   "source": [
    "#with function\n",
    "\n",
    "def sumsqsqsum(z):\n",
    "    def sumsq(x):\n",
    "            x = z\n",
    "            i = x\n",
    "            total1 = 0\n",
    "            while(i>0):\n",
    "                total1 += i**2\n",
    "                i -= 1\n",
    "            return total1\n",
    "\n",
    "    def sqsum(x):\n",
    "        x = z\n",
    "        i = x\n",
    "        total2 = 0\n",
    "        while(i>0):\n",
    "            total2 += i\n",
    "            i -= 1\n",
    "        return total2**2\n",
    "    return sqsum(z) - sumsq(z)\n",
    "\n",
    "amount = int(input('first how many natural numbers? '))\n",
    "\n",
    "print('answer: ',sumsqsqsum(amount))\n",
    "\n",
    "\n",
    "#sir this was so fun to make :3"
   ]
  },
  {
   "cell_type": "markdown",
   "metadata": {},
   "source": [
    "## Problem 5\n",
    "Write a function that allows a self-service Point of Sale system to give you the exact change when you pay in cash."
   ]
  },
  {
   "cell_type": "code",
   "execution_count": 45,
   "metadata": {},
   "outputs": [
    {
     "name": "stdout",
     "output_type": "stream",
     "text": [
      "change for how much? (in cents!)69\n",
      "0\n",
      "2\n",
      "1\n",
      "1\n",
      "4\n"
     ]
    }
   ],
   "source": [
    "amount = int(input('change for how much? (in cents!)'))\n",
    "\n",
    "change = amount\n",
    "cent100 = change//100\n",
    "print(cent100)\n",
    "remainder1 = change - cent100*100\n",
    "cent25 = remainder1//25\n",
    "print(cent25)\n",
    "remainder2 = remainder1 - cent25*25\n",
    "cent10 = remainder2//10\n",
    "print(cent10)\n",
    "remainder3= remainder2 - cent10*10\n",
    "cent5 = remainder3//5\n",
    "print(cent5)\n",
    "remainder4= remainder3 - cent5*5\n",
    "cent1 = remainder4//1\n",
    "print(cent1)"
   ]
  },
  {
   "cell_type": "code",
   "execution_count": 5,
   "metadata": {},
   "outputs": [
    {
     "name": "stdout",
     "output_type": "stream",
     "text": [
      "denomination breakdown for how much cents? 69\n",
      "0\n",
      "2\n",
      "1\n",
      "1\n",
      "4\n"
     ]
    }
   ],
   "source": [
    "def change_inator(change):\n",
    "    cent100 = change//100\n",
    "    cent25 = (change-cent100*100)//25\n",
    "    cent10 = ((change-cent100*100)-(cent25*25))//10\n",
    "    cent5 = ((change-cent100*100)-(cent25*25)-(cent10*10))//5\n",
    "    cent1 = ((change-cent100*100)-(cent25*25)-(cent10*10)-(cent5*5))//1\n",
    "    print(cent100)\n",
    "    print(cent25)\n",
    "    print(cent10)\n",
    "    print(cent5)\n",
    "    print(cent1)\n",
    "    \n",
    "amount = int(input('denomination breakdown for how much cents? '))\n",
    "\n",
    "change_inator(amount)"
   ]
  }
 ],
 "metadata": {
  "kernelspec": {
   "display_name": "Python 3",
   "language": "python",
   "name": "python3"
  },
  "language_info": {
   "codemirror_mode": {
    "name": "ipython",
    "version": 3
   },
   "file_extension": ".py",
   "mimetype": "text/x-python",
   "name": "python",
   "nbconvert_exporter": "python",
   "pygments_lexer": "ipython3",
   "version": "3.8.3"
  }
 },
 "nbformat": 4,
 "nbformat_minor": 4
}
